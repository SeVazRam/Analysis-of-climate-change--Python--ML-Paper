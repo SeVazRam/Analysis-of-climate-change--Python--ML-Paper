{
 "cells": [
  {
   "cell_type": "code",
   "execution_count": 2,
   "id": "5585a745",
   "metadata": {},
   "outputs": [],
   "source": [
    "import pandas as pd\n",
    "import os\n",
    "import numpy as np # linear algebra\n",
    "import matplotlib.pyplot as plt\n",
    "import datetime as dt\n",
    "from scipy.stats import pearsonr\n",
    "from sklearn.model_selection import train_test_split\n",
    "from sklearn.linear_model import LinearRegression\n",
    "from sklearn.linear_model import LogisticRegression\n",
    "from sklearn.ensemble import GradientBoostingRegressor\n",
    "from sklearn import metrics\n",
    "\n",
    "from sklearn.metrics import mean_squared_error, mean_absolute_error, r2_score\n",
    "# Modelado\n",
    "# ==============================================================================\n",
    "from sklearn.neural_network import MLPRegressor\n",
    "from sklearn.compose import ColumnTransformer\n",
    "from sklearn.preprocessing import OneHotEncoder\n",
    "from sklearn.preprocessing import StandardScaler\n",
    "from sklearn.compose import make_column_selector\n",
    "from sklearn.pipeline import Pipeline\n",
    "from sklearn.metrics import mean_squared_error\n",
    "from sklearn.model_selection import RandomizedSearchCV\n",
    "from sklearn.model_selection import KFold\n",
    "from sklearn import set_config\n",
    "import multiprocessing\n",
    "\n",
    "import warnings\n",
    "warnings.filterwarnings('ignore')"
   ]
  },
  {
   "cell_type": "code",
   "execution_count": 3,
   "id": "cb6e7cf9",
   "metadata": {},
   "outputs": [
    {
     "data": {
      "text/plain": [
       "['FinalGraphTemp.csv',\n",
       " 'FinalGraphTemp.xlsx',\n",
       " 'GlobalTemperatures.csv',\n",
       " 'GlobalTemperaturesGZ.csv',\n",
       " 'GlobalTemperaturesGZ.xlsx',\n",
       " '~$FinalGraphTemp.xlsx']"
      ]
     },
     "execution_count": 3,
     "metadata": {},
     "output_type": "execute_result"
    }
   ],
   "source": [
    "pd.set_option('display.max_columns', 500)\n",
    "\n",
    "data_path = os.getcwd()[:-len('notebooks')] + 'Data/'\n",
    "db_Temp_path = data_path + 'TempFuturas/'\n",
    "os.listdir(db_Temp_path)"
   ]
  },
  {
   "cell_type": "code",
   "execution_count": 4,
   "id": "7f6df01e",
   "metadata": {},
   "outputs": [],
   "source": [
    "temperatures = pd.read_csv(db_Temp_path + 'GlobalTemperatures.csv')"
   ]
  },
  {
   "cell_type": "code",
   "execution_count": 5,
   "id": "a17cb95d",
   "metadata": {},
   "outputs": [],
   "source": [
    "temperatures['Date'] = pd.to_datetime(temperatures.dt, format='%Y-%d-%m')\n",
    "temperatures['Year'] = temperatures['Date'].dt.year\n",
    "temperatures['Date'] = temperatures['Date'].map(dt.datetime.toordinal)"
   ]
  },
  {
   "cell_type": "code",
   "execution_count": 6,
   "id": "9227c7ec",
   "metadata": {},
   "outputs": [],
   "source": [
    "df = temperatures.groupby('Year')['LandAverageTemperature'].mean().reset_index()"
   ]
  },
  {
   "cell_type": "code",
   "execution_count": 7,
   "id": "f552a8ed",
   "metadata": {},
   "outputs": [
    {
     "data": {
      "text/html": [
       "<div>\n",
       "<style scoped>\n",
       "    .dataframe tbody tr th:only-of-type {\n",
       "        vertical-align: middle;\n",
       "    }\n",
       "\n",
       "    .dataframe tbody tr th {\n",
       "        vertical-align: top;\n",
       "    }\n",
       "\n",
       "    .dataframe thead th {\n",
       "        text-align: right;\n",
       "    }\n",
       "</style>\n",
       "<table border=\"1\" class=\"dataframe\">\n",
       "  <thead>\n",
       "    <tr style=\"text-align: right;\">\n",
       "      <th></th>\n",
       "      <th>Year</th>\n",
       "      <th>LandAverageTemperature</th>\n",
       "    </tr>\n",
       "  </thead>\n",
       "  <tbody>\n",
       "    <tr>\n",
       "      <th>0</th>\n",
       "      <td>1975</td>\n",
       "      <td>8.744833</td>\n",
       "    </tr>\n",
       "    <tr>\n",
       "      <th>1</th>\n",
       "      <td>1976</td>\n",
       "      <td>8.347250</td>\n",
       "    </tr>\n",
       "    <tr>\n",
       "      <th>2</th>\n",
       "      <td>1977</td>\n",
       "      <td>8.850250</td>\n",
       "    </tr>\n",
       "    <tr>\n",
       "      <th>3</th>\n",
       "      <td>1978</td>\n",
       "      <td>8.692750</td>\n",
       "    </tr>\n",
       "    <tr>\n",
       "      <th>4</th>\n",
       "      <td>1979</td>\n",
       "      <td>8.733417</td>\n",
       "    </tr>\n",
       "  </tbody>\n",
       "</table>\n",
       "</div>"
      ],
      "text/plain": [
       "   Year  LandAverageTemperature\n",
       "0  1975                8.744833\n",
       "1  1976                8.347250\n",
       "2  1977                8.850250\n",
       "3  1978                8.692750\n",
       "4  1979                8.733417"
      ]
     },
     "execution_count": 7,
     "metadata": {},
     "output_type": "execute_result"
    }
   ],
   "source": [
    "df1 = df[df['Year'] >= 1975].reset_index()\n",
    "df1 = df1.drop(['index'], axis = 1)\n",
    "df1.head()"
   ]
  },
  {
   "cell_type": "code",
   "execution_count": 8,
   "id": "426d77a8",
   "metadata": {},
   "outputs": [],
   "source": [
    "X1 = df1['Year']\n",
    "y1 = df1['LandAverageTemperature']\n",
    "\n",
    "X1 = X1.values.reshape(-1,1)"
   ]
  },
  {
   "cell_type": "code",
   "execution_count": 9,
   "id": "755d1cfd",
   "metadata": {},
   "outputs": [],
   "source": [
    "import numpy as np\n",
    "import matplotlib.pyplot as plt\n",
    "import tensorflow as tf\n",
    "from tensorflow import keras\n",
    "import math\n",
    "import scipy.io"
   ]
  },
  {
   "cell_type": "code",
   "execution_count": 46,
   "id": "0a7f9250",
   "metadata": {},
   "outputs": [
    {
     "name": "stdout",
     "output_type": "stream",
     "text": [
      "Model: \"sequential_16\"\n",
      "_________________________________________________________________\n",
      " Layer (type)                Output Shape              Param #   \n",
      "=================================================================\n",
      " dense_64 (Dense)            (None, 1)                 2         \n",
      "                                                                 \n",
      " dense_65 (Dense)            (None, 28)                56        \n",
      "                                                                 \n",
      " dense_66 (Dense)            (None, 14)                406       \n",
      "                                                                 \n",
      " dense_67 (Dense)            (None, 1)                 15        \n",
      "                                                                 \n",
      "=================================================================\n",
      "Total params: 479\n",
      "Trainable params: 479\n",
      "Non-trainable params: 0\n",
      "_________________________________________________________________\n",
      "Epoch 1/65\n",
      "2/2 [==============================] - 1s 6ms/step - loss: 2088597.1250\n",
      "Epoch 2/65\n",
      "2/2 [==============================] - 0s 12ms/step - loss: 1824862.8750\n",
      "Epoch 3/65\n",
      "2/2 [==============================] - 0s 7ms/step - loss: 1583488.3750\n",
      "Epoch 4/65\n",
      "2/2 [==============================] - 0s 6ms/step - loss: 1363636.1250\n",
      "Epoch 5/65\n",
      "2/2 [==============================] - 0s 6ms/step - loss: 1165131.0000\n",
      "Epoch 6/65\n",
      "2/2 [==============================] - 0s 6ms/step - loss: 987201.6875\n",
      "Epoch 7/65\n",
      "2/2 [==============================] - 0s 6ms/step - loss: 828871.5000\n",
      "Epoch 8/65\n",
      "2/2 [==============================] - 0s 4ms/step - loss: 689648.6875\n",
      "Epoch 9/65\n",
      "2/2 [==============================] - 0s 8ms/step - loss: 573974.8125\n",
      "Epoch 10/65\n",
      "2/2 [==============================] - 0s 9ms/step - loss: 474608.2812\n",
      "Epoch 11/65\n",
      "2/2 [==============================] - 0s 8ms/step - loss: 393862.3750\n",
      "Epoch 12/65\n",
      "2/2 [==============================] - 0s 8ms/step - loss: 323356.3750\n",
      "Epoch 13/65\n",
      "2/2 [==============================] - 0s 9ms/step - loss: 264400.7500\n",
      "Epoch 14/65\n",
      "2/2 [==============================] - 0s 8ms/step - loss: 214025.5625\n",
      "Epoch 15/65\n",
      "2/2 [==============================] - 0s 10ms/step - loss: 170992.3750\n",
      "Epoch 16/65\n",
      "2/2 [==============================] - 0s 8ms/step - loss: 134582.5312\n",
      "Epoch 17/65\n",
      "2/2 [==============================] - 0s 8ms/step - loss: 104159.4766\n",
      "Epoch 18/65\n",
      "2/2 [==============================] - 0s 5ms/step - loss: 79098.5156\n",
      "Epoch 19/65\n",
      "2/2 [==============================] - 0s 6ms/step - loss: 58751.2695\n",
      "Epoch 20/65\n",
      "2/2 [==============================] - 0s 7ms/step - loss: 42540.3672\n",
      "Epoch 21/65\n",
      "2/2 [==============================] - 0s 5ms/step - loss: 29871.4824\n",
      "Epoch 22/65\n",
      "2/2 [==============================] - 0s 7ms/step - loss: 20195.1055\n",
      "Epoch 23/65\n",
      "2/2 [==============================] - 0s 5ms/step - loss: 13191.2168\n",
      "Epoch 24/65\n",
      "2/2 [==============================] - 0s 6ms/step - loss: 8203.2764\n",
      "Epoch 25/65\n",
      "2/2 [==============================] - 0s 7ms/step - loss: 4721.1021\n",
      "Epoch 26/65\n",
      "2/2 [==============================] - 0s 5ms/step - loss: 2427.0088\n",
      "Epoch 27/65\n",
      "2/2 [==============================] - 0s 7ms/step - loss: 1036.6855\n",
      "Epoch 28/65\n",
      "2/2 [==============================] - 0s 6ms/step - loss: 305.0765\n",
      "Epoch 29/65\n",
      "2/2 [==============================] - 0s 9ms/step - loss: 27.4319\n",
      "Epoch 30/65\n",
      "2/2 [==============================] - 0s 5ms/step - loss: 37.6246\n",
      "Epoch 31/65\n",
      "2/2 [==============================] - 0s 7ms/step - loss: 207.9582\n",
      "Epoch 32/65\n",
      "2/2 [==============================] - 0s 5ms/step - loss: 443.5313\n",
      "Epoch 33/65\n",
      "2/2 [==============================] - 0s 8ms/step - loss: 679.5410\n",
      "Epoch 34/65\n",
      "2/2 [==============================] - 0s 9ms/step - loss: 875.0654\n",
      "Epoch 35/65\n",
      "2/2 [==============================] - 0s 8ms/step - loss: 1009.3276\n",
      "Epoch 36/65\n",
      "2/2 [==============================] - 0s 8ms/step - loss: 1075.6432\n",
      "Epoch 37/65\n",
      "2/2 [==============================] - 0s 5ms/step - loss: 1078.2892\n",
      "Epoch 38/65\n",
      "2/2 [==============================] - 0s 5ms/step - loss: 1027.4478\n",
      "Epoch 39/65\n",
      "2/2 [==============================] - 0s 5ms/step - loss: 936.4171\n",
      "Epoch 40/65\n",
      "2/2 [==============================] - 0s 4ms/step - loss: 819.6444\n",
      "Epoch 41/65\n",
      "2/2 [==============================] - 0s 9ms/step - loss: 690.1555\n",
      "Epoch 42/65\n",
      "2/2 [==============================] - 0s 8ms/step - loss: 559.4088\n",
      "Epoch 43/65\n",
      "2/2 [==============================] - 0s 8ms/step - loss: 436.1360\n",
      "Epoch 44/65\n",
      "2/2 [==============================] - 0s 8ms/step - loss: 325.8310\n",
      "Epoch 45/65\n",
      "2/2 [==============================] - 0s 8ms/step - loss: 232.4646\n",
      "Epoch 46/65\n",
      "2/2 [==============================] - 0s 5ms/step - loss: 157.1148\n",
      "Epoch 47/65\n",
      "2/2 [==============================] - 0s 6ms/step - loss: 99.3240\n",
      "Epoch 48/65\n",
      "2/2 [==============================] - 0s 15ms/step - loss: 57.5844\n",
      "Epoch 49/65\n",
      "2/2 [==============================] - 0s 6ms/step - loss: 29.4126\n",
      "Epoch 50/65\n",
      "2/2 [==============================] - 0s 4ms/step - loss: 12.3617\n",
      "Epoch 51/65\n",
      "2/2 [==============================] - 0s 6ms/step - loss: 3.4885\n",
      "Epoch 52/65\n",
      "2/2 [==============================] - 0s 6ms/step - loss: 0.3114\n",
      "Epoch 53/65\n",
      "2/2 [==============================] - 0s 4ms/step - loss: 0.7728\n",
      "Epoch 54/65\n",
      "2/2 [==============================] - 0s 5ms/step - loss: 3.1111\n",
      "Epoch 55/65\n",
      "2/2 [==============================] - 0s 6ms/step - loss: 6.0929\n",
      "Epoch 56/65\n",
      "2/2 [==============================] - 0s 3ms/step - loss: 8.8347\n",
      "Epoch 57/65\n",
      "2/2 [==============================] - 0s 6ms/step - loss: 10.8792\n",
      "Epoch 58/65\n",
      "2/2 [==============================] - 0s 5ms/step - loss: 11.9865\n",
      "Epoch 59/65\n",
      "2/2 [==============================] - 0s 4ms/step - loss: 12.1750\n",
      "Epoch 60/65\n",
      "2/2 [==============================] - 0s 5ms/step - loss: 11.5841\n",
      "Epoch 61/65\n",
      "2/2 [==============================] - 0s 5ms/step - loss: 10.4119\n",
      "Epoch 62/65\n",
      "2/2 [==============================] - 0s 4ms/step - loss: 8.8952\n",
      "Epoch 63/65\n",
      "2/2 [==============================] - 0s 5ms/step - loss: 7.2235\n",
      "Epoch 64/65\n",
      "2/2 [==============================] - 0s 6ms/step - loss: 5.5825\n",
      "Epoch 65/65\n",
      "2/2 [==============================] - 0s 3ms/step - loss: 4.0878\n",
      "2/2 [==============================] - 0s 4ms/step\n"
     ]
    },
    {
     "data": {
      "image/png": "[encoded data removed]",
      "text/plain": [
       "<Figure size 640x480 with 1 Axes>"
      ]
     },
     "metadata": {},
     "output_type": "display_data"
    }
   ],
   "source": [
    "model = keras.Sequential()\n",
    "model.add(keras.layers.Dense(units = 1, activation = 'linear', input_shape=[1]))\n",
    "model.add(keras.layers.Dense(units = 28, activation = 'linear'))\n",
    "model.add(keras.layers.Dense(units = 14, activation = 'relu'))\n",
    "#model.add(keras.layers.Dense(units = 32, activation = 'linear'))\n",
    "model.add(keras.layers.Dense(units =1, activation = 'linear'))\n",
    "model.compile(loss='mean_squared_error', optimizer=\"adam\")\n",
    "\n",
    "model.summary()\n",
    "model.fit( X1, y1, epochs=65, verbose=1)\n",
    "\n",
    "y_predicted = model.predict(X1)\n",
    "\n",
    "plt.scatter(X1[::1], y1[::1])\n",
    "plt.plot(X1, y_predicted)\n",
    "plt.grid()\n",
    "plt.show()"
   ]
  },
  {
   "cell_type": "code",
   "execution_count": 47,
   "id": "10cca6a9",
   "metadata": {},
   "outputs": [
    {
     "name": "stdout",
     "output_type": "stream",
     "text": [
      "1/1 [==============================] - 0s 58ms/step\n",
      "[[10.993227]\n",
      " [10.998727]\n",
      " [11.004367]\n",
      " [11.009855]\n",
      " [11.015491]\n",
      " [11.021013]\n",
      " [11.026555]\n",
      " [11.032091]\n",
      " [11.037816]\n",
      " [11.043244]\n",
      " [11.048757]\n",
      " [11.054473]\n",
      " [11.060049]\n",
      " [11.06552 ]\n",
      " [11.071025]]\n"
     ]
    }
   ],
   "source": [
    "print(model.predict(np.array([2016,2017,2018,2019,2020,2021,2022,2023,2024,2025,\n",
    "                              2026,2027,2028,2029,2030]).reshape(-1,1)))"
   ]
  },
  {
   "cell_type": "code",
   "execution_count": 49,
   "id": "8767888d",
   "metadata": {},
   "outputs": [
    {
     "data": {
      "text/plain": [
       "0.9605810000000012"
      ]
     },
     "execution_count": 49,
     "metadata": {},
     "output_type": "execute_result"
    }
   ],
   "source": [
    "11.071025-10.110444 "
   ]
  },
  {
   "cell_type": "code",
   "execution_count": 50,
   "id": "23a0dea8",
   "metadata": {},
   "outputs": [
    {
     "data": {
      "text/plain": [
       "10.032645999999998"
      ]
     },
     "execution_count": 50,
     "metadata": {},
     "output_type": "execute_result"
    }
   ],
   "source": [
    "10.993227-0.9605810000000012"
   ]
  },
  {
   "cell_type": "code",
   "execution_count": null,
   "id": "b4d90eb7",
   "metadata": {},
   "outputs": [
    {
     "name": "stdout",
     "output_type": "stream",
     "text": [
      "1/1 [==============================] - 0s 52ms/step\n",
      "[[10.032646]\n",
      " [10.038146]\n",
      " [10.043786]\n",
      " [10.049274]\n",
      " [10.05491 ]]\n"
     ]
    }
   ],
   "source": [
    "print(model.predict(np.array([2016,2017,2018,2019,2020]).reshape(-1,1))-0.9605810000000012)"
   ]
  },
  {
   "cell_type": "code",
   "execution_count": null,
   "id": "bc8afd9e",
   "metadata": {},
   "outputs": [],
   "source": []
  },
  {
   "cell_type": "code",
   "execution_count": null,
   "id": "685c3096",
   "metadata": {},
   "outputs": [],
   "source": []
  },
  {
   "cell_type": "code",
   "execution_count": 91,
   "id": "70cc5fa8",
   "metadata": {},
   "outputs": [
    {
     "name": "stdout",
     "output_type": "stream",
     "text": [
      "1/1 [==============================] - 0s 70ms/step\n",
      "[[10.110444 ]\n",
      " [10.115426 ]\n",
      " [10.1203165]\n",
      " [10.12523  ]\n",
      " [10.130158 ]\n",
      " [10.135064 ]\n",
      " [10.140023 ]\n",
      " [10.144876 ]\n",
      " [10.149987 ]\n",
      " [10.154771 ]\n",
      " [10.159715 ]]\n"
     ]
    }
   ],
   "source": [
    "print(model.predict(np.array([2020,2021,2022,2023,2024,2025,2026,2027,2028,2029,\n",
    "                              2030]).reshape(-1,1)))"
   ]
  },
  {
   "cell_type": "code",
   "execution_count": 21,
   "id": "68c66ff9",
   "metadata": {},
   "outputs": [
    {
     "data": {
      "text/plain": [
       "111.4860105"
      ]
     },
     "execution_count": 21,
     "metadata": {},
     "output_type": "execute_result"
    }
   ],
   "source": []
  },
  {
   "cell_type": "code",
   "execution_count": null,
   "id": "2e4f4812",
   "metadata": {},
   "outputs": [],
   "source": []
  },
  {
   "cell_type": "code",
   "execution_count": null,
   "id": "1ee29ba2",
   "metadata": {},
   "outputs": [],
   "source": []
  },
  {
   "cell_type": "code",
   "execution_count": 92,
   "id": "67575722",
   "metadata": {},
   "outputs": [
    {
     "name": "stdout",
     "output_type": "stream",
     "text": [
      "20-30\n",
      "1/1 [==============================] - 0s 20ms/step\n",
      "[[10.110444 ]\n",
      " [10.115426 ]\n",
      " [10.1203165]\n",
      " [10.12523  ]\n",
      " [10.130158 ]\n",
      " [10.135064 ]\n",
      " [10.140023 ]\n",
      " [10.144876 ]\n",
      " [10.149987 ]\n",
      " [10.154771 ]\n",
      " [10.159715 ]]\n",
      "31-40\n",
      "1/1 [==============================] - 0s 19ms/step\n",
      "[[10.16462  ]\n",
      " [10.169602 ]\n",
      " [10.174523 ]\n",
      " [10.179322 ]\n",
      " [10.18435  ]\n",
      " [10.1893015]\n",
      " [10.194238 ]\n",
      " [10.19909  ]\n",
      " [10.204064 ]\n",
      " [10.209008 ]]\n",
      "41-50\n",
      "1/1 [==============================] - 0s 19ms/step\n",
      "[[10.213807]\n",
      " [10.218728]\n",
      " [10.22368 ]\n",
      " [10.228684]\n",
      " [10.233476]\n",
      " [10.238549]\n",
      " [10.243379]\n",
      " [10.248361]\n",
      " [10.253228]\n",
      " [10.258096]]\n",
      "51-60\n",
      "1/1 [==============================] - 0s 19ms/step\n",
      "[[10.263017]\n",
      " [10.268037]\n",
      " [10.27292 ]\n",
      " [10.277818]\n",
      " [10.282838]\n",
      " [10.287683]\n",
      " [10.29268 ]\n",
      " [10.297616]\n",
      " [10.302545]\n",
      " [10.307496]]\n",
      "61-70\n",
      "1/1 [==============================] - 0s 18ms/step\n",
      "[[10.31231 ]\n",
      " [10.317216]\n",
      " [10.322137]\n",
      " [10.327104]\n",
      " [10.332032]\n",
      " [10.33693 ]\n",
      " [10.341874]\n",
      " [10.346841]\n",
      " [10.351769]\n",
      " [10.356698]]\n",
      "71-80\n",
      "1/1 [==============================] - 0s 18ms/step\n",
      "[[10.361573 ]\n",
      " [10.366532 ]\n",
      " [10.3714075]\n",
      " [10.376359 ]\n",
      " [10.381303 ]\n",
      " [10.386193 ]\n",
      " [10.390985 ]\n",
      " [10.39602  ]\n",
      " [10.40101  ]\n",
      " [10.405847 ]]\n",
      "81-90\n",
      "1/1 [==============================] - 0s 19ms/step\n",
      "[[10.410676]\n",
      " [10.415643]\n",
      " [10.420739]\n",
      " [10.425584]\n",
      " [10.430596]\n",
      " [10.435525]\n",
      " [10.440362]\n",
      " [10.445275]\n",
      " [10.450265]\n",
      " [10.45514 ]]\n",
      "91-100\n",
      "1/1 [==============================] - 0s 24ms/step\n",
      "[[10.46     ]\n",
      " [10.465005 ]\n",
      " [10.469872 ]\n",
      " [10.474908 ]\n",
      " [10.479722 ]\n",
      " [10.48462  ]\n",
      " [10.489511 ]\n",
      " [10.494538 ]\n",
      " [10.499352 ]\n",
      " [10.5043955]]\n"
     ]
    }
   ],
   "source": [
    "print(\"20-30\")\n",
    "print(model.predict(np.array([2020,2021,2022,2023,2024,2025,2026,2027,2028,2029,\n",
    "                              2030]).reshape(-1,1)))\n",
    "print(\"31-40\")\n",
    "print(model.predict(np.array([2031,2032,2033,2034,2035,2036,2037,2038,2039,\n",
    "                              2040]).reshape(-1,1)))\n",
    "print(\"41-50\")\n",
    "print(model.predict(np.array([2041,2042,2043,2044,2045,2046,2047,2048,2049,\n",
    "                              2050]).reshape(-1,1)))\n",
    "print(\"51-60\")\n",
    "print(model.predict(np.array([2051,2052,2053,2054,2055,2056,2057,2058,2059,\n",
    "                              2060]).reshape(-1,1)))\n",
    "print(\"61-70\")\n",
    "print(model.predict(np.array([2061,2062,2063,2064,2065,2066,2067,2068,2069,\n",
    "                              2070]).reshape(-1,1)))\n",
    "print(\"71-80\")\n",
    "print(model.predict(np.array([2071,2072,2073,2074,2075,2076,2077,2078,2079,\n",
    "                              2080]).reshape(-1,1)))\n",
    "print(\"81-90\")\n",
    "print(model.predict(np.array([2081,2082,2083,2084,2085,2086,2087,2088,2089,\n",
    "                              2090]).reshape(-1,1)))\n",
    "print(\"91-100\")\n",
    "print(model.predict(np.array([2091,2092,2093,2094,2095,2096,2097,2098,2099,\n",
    "                              2100]).reshape(-1,1)))\n"
   ]
  },
  {
   "cell_type": "code",
   "execution_count": null,
   "id": "84c77790",
   "metadata": {},
   "outputs": [],
   "source": []
  },
  {
   "cell_type": "code",
   "execution_count": null,
   "id": "443a2256",
   "metadata": {},
   "outputs": [],
   "source": []
  },
  {
   "cell_type": "code",
   "execution_count": null,
   "id": "fb97a2ea",
   "metadata": {},
   "outputs": [],
   "source": [
    "#original\n",
    "print(model.predict(np.array([2020,2025,2030,2035,2040,2045,2050,2055,2060,2065,2070,2075,2080,2085,2090,2095,2100]).reshape(-1,1)))"
   ]
  },
  {
   "cell_type": "code",
   "execution_count": null,
   "id": "ffa76d09",
   "metadata": {},
   "outputs": [],
   "source": []
  },
  {
   "cell_type": "code",
   "execution_count": null,
   "id": "437707ee",
   "metadata": {},
   "outputs": [],
   "source": []
  }
 ],
 "metadata": {
  "kernelspec": {
   "display_name": "Python 3 (ipykernel)",
   "language": "python",
   "name": "python3"
  },
  "language_info": {
   "codemirror_mode": {
    "name": "ipython",
    "version": 3
   },
   "file_extension": ".py",
   "mimetype": "text/x-python",
   "name": "python",
   "nbconvert_exporter": "python",
   "pygments_lexer": "ipython3",
   "version": "3.8.15"
  }
 },
 "nbformat": 4,
 "nbformat_minor": 5
}
